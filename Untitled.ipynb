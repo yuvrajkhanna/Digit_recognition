{
 "cells": [
  {
   "cell_type": "code",
   "execution_count": 1,
   "metadata": {},
   "outputs": [
    {
     "name": "stderr",
     "output_type": "stream",
     "text": [
      "Using TensorFlow backend.\n"
     ]
    }
   ],
   "source": [
    "import pandas as pd\n",
    "import numpy as np\n",
    "import matplotlib.pyplot as plt\n",
    "import matplotlib.image as mpimg\n",
    "import seaborn as sns\n",
    "import tensorflow as tf\n",
    "%matplotlib inline\n",
    "\n",
    "np.random.seed(2)\n",
    "\n",
    "from sklearn.model_selection import train_test_split\n",
    "from sklearn.metrics import confusion_matrix\n",
    "import itertools\n",
    "\n",
    "from keras.utils.np_utils import to_categorical\n",
    "from keras.models import Sequential\n",
    "from keras.layers import Dense, Dropout, Flatten, Conv2D, MaxPool2D\n",
    "from keras.optimizers import RMSprop,SGD\n",
    "from keras.preprocessing.image import ImageDataGenerator\n",
    "from keras.callbacks import ReduceLROnPlateau"
   ]
  },
  {
   "cell_type": "code",
   "execution_count": 2,
   "metadata": {},
   "outputs": [],
   "source": [
    "train = pd.read_csv(\"train.csv\")\n",
    "test = pd.read_csv(\"test.csv\")"
   ]
  },
  {
   "cell_type": "code",
   "execution_count": 3,
   "metadata": {},
   "outputs": [
    {
     "data": {
      "text/plain": [
       "1    4684\n",
       "7    4401\n",
       "3    4351\n",
       "9    4188\n",
       "2    4177\n",
       "6    4137\n",
       "0    4132\n",
       "4    4072\n",
       "8    4063\n",
       "5    3795\n",
       "Name: label, dtype: int64"
      ]
     },
     "execution_count": 3,
     "metadata": {},
     "output_type": "execute_result"
    },
    {
     "data": {
      "image/png": "[encoded data removed]",
      "text/plain": [
       "<Figure size 432x288 with 1 Axes>"
      ]
     },
     "metadata": {
      "needs_background": "light"
     },
     "output_type": "display_data"
    }
   ],
   "source": [
    "Y_train = train[\"label\"]\n",
    "\n",
    "X_train = train.drop(labels = [\"label\"],axis = 1) \n",
    "\n",
    "del train \n",
    "\n",
    "g = sns.countplot(Y_train)\n",
    "\n",
    "Y_train.value_counts()\n"
   ]
  },
  {
   "cell_type": "code",
   "execution_count": 4,
   "metadata": {},
   "outputs": [
    {
     "data": {
      "text/plain": [
       "(42000, 784)"
      ]
     },
     "execution_count": 4,
     "metadata": {},
     "output_type": "execute_result"
    }
   ],
   "source": [
    "np.shape(X_train)"
   ]
  },
  {
   "cell_type": "code",
   "execution_count": 5,
   "metadata": {},
   "outputs": [],
   "source": [
    "X_train = X_train / 255.0\n",
    "test = test / 255.0"
   ]
  },
  {
   "cell_type": "code",
   "execution_count": 6,
   "metadata": {},
   "outputs": [],
   "source": [
    "X_train = X_train.values.reshape(-1,28,28,1)\n",
    "test = test.values.reshape(-1,28,28,1)\n"
   ]
  },
  {
   "cell_type": "code",
   "execution_count": 7,
   "metadata": {},
   "outputs": [
    {
     "data": {
      "text/plain": [
       "(42000, 28, 28, 1)"
      ]
     },
     "execution_count": 7,
     "metadata": {},
     "output_type": "execute_result"
    }
   ],
   "source": [
    "np.shape(X_train)"
   ]
  },
  {
   "cell_type": "code",
   "execution_count": 8,
   "metadata": {},
   "outputs": [
    {
     "data": {
      "text/plain": [
       "pandas.core.series.Series"
      ]
     },
     "execution_count": 8,
     "metadata": {},
     "output_type": "execute_result"
    }
   ],
   "source": [
    "type(Y_train)"
   ]
  },
  {
   "cell_type": "code",
   "execution_count": 9,
   "metadata": {},
   "outputs": [],
   "source": [
    "Y_train = to_categorical(Y_train, num_classes = 10)"
   ]
  },
  {
   "cell_type": "code",
   "execution_count": 10,
   "metadata": {},
   "outputs": [
    {
     "data": {
      "text/plain": [
       "numpy.ndarray"
      ]
     },
     "execution_count": 10,
     "metadata": {},
     "output_type": "execute_result"
    }
   ],
   "source": [
    "type(Y_train)"
   ]
  },
  {
   "cell_type": "code",
   "execution_count": 11,
   "metadata": {},
   "outputs": [],
   "source": [
    "random_seed = 2\n",
    "X_train, X_val, Y_train, Y_val = train_test_split(X_train, Y_train, test_size = 0.1, random_state=random_seed)"
   ]
  },
  {
   "cell_type": "code",
   "execution_count": 12,
   "metadata": {},
   "outputs": [],
   "source": [
    "\n",
    "model = Sequential()\n",
    "\n",
    "model.add(Conv2D(filters = 32, kernel_size = (5,5),padding = 'Same', \n",
    "                 activation ='relu', input_shape = (28,28,1)))\n",
    "model.add(Conv2D(filters = 32, kernel_size = (5,5),padding = 'Same', \n",
    "                 activation ='relu'))\n",
    "model.add(MaxPool2D(pool_size=(2,2)))\n",
    "model.add(Dropout(0.25))\n",
    "\n",
    "\n",
    "model.add(Conv2D(filters = 64, kernel_size = (3,3),padding = 'Same', \n",
    "                 activation ='relu'))\n",
    "model.add(Conv2D(filters = 64, kernel_size = (3,3),padding = 'Same', \n",
    "                 activation ='relu'))\n",
    "model.add(MaxPool2D(pool_size=(2,2), strides=(2,2)))\n",
    "model.add(Dropout(0.25))\n",
    "\n",
    "\n",
    "model.add(Flatten())\n",
    "model.add(Dense(256, activation = \"relu\"))\n",
    "model.add(Dropout(0.5))\n",
    "model.add(Dense(10, activation = \"softmax\"))"
   ]
  },
  {
   "cell_type": "code",
   "execution_count": 13,
   "metadata": {},
   "outputs": [],
   "source": [
    "optimizer = SGD(lr=0.001)\n",
    "model.compile(optimizer = optimizer , loss = \"categorical_crossentropy\", metrics=[\"accuracy\"])"
   ]
  },
  {
   "cell_type": "code",
   "execution_count": 14,
   "metadata": {},
   "outputs": [],
   "source": [
    "learning_rate_reduction = ReduceLROnPlateau(monitor='val_acc', \n",
    "                                            patience=3, \n",
    "                                            verbose=1, \n",
    "                                            factor=0.5, \n",
    "                                            min_lr=0.00001)"
   ]
  },
  {
   "cell_type": "code",
   "execution_count": 15,
   "metadata": {},
   "outputs": [],
   "source": [
    "epochs = 50\n",
    "batch_size = 100"
   ]
  },
  {
   "cell_type": "code",
   "execution_count": 16,
   "metadata": {},
   "outputs": [],
   "source": [
    "datagen = ImageDataGenerator(\n",
    "        featurewise_center=False,  \n",
    "        samplewise_center=False,  \n",
    "        featurewise_std_normalization=False,  \n",
    "        samplewise_std_normalization=False,  \n",
    "        zca_whitening=False,\n",
    "        rotation_range=10,  \n",
    "        zoom_range = 0.1, \n",
    "        width_shift_range=0.1,\n",
    "        height_shift_range=0.1,  \n",
    "        horizontal_flip=False,\n",
    "        vertical_flip=False)  \n",
    "\n",
    "\n",
    "datagen.fit(X_train)"
   ]
  },
  {
   "cell_type": "code",
   "execution_count": 17,
   "metadata": {},
   "outputs": [
    {
     "name": "stdout",
     "output_type": "stream",
     "text": [
      "Epoch 1/50\n",
      "378/378 [==============================] - 43s 115ms/step - loss: 0.4403 - acc: 0.8598 - val_loss: 0.0735 - val_acc: 0.9783\n",
      "Epoch 2/50\n",
      "378/378 [==============================] - 45s 118ms/step - loss: 0.1315 - acc: 0.9608 - val_loss: 0.0504 - val_acc: 0.9850\n",
      "Epoch 3/50\n",
      "378/378 [==============================] - 42s 110ms/step - loss: 0.0941 - acc: 0.9722 - val_loss: 0.0489 - val_acc: 0.9848\n",
      "Epoch 4/50\n",
      "378/378 [==============================] - 42s 110ms/step - loss: 0.0774 - acc: 0.9773 - val_loss: 0.0283 - val_acc: 0.9912\n",
      "Epoch 5/50\n",
      "378/378 [==============================] - 41s 107ms/step - loss: 0.0695 - acc: 0.9797 - val_loss: 0.0271 - val_acc: 0.9900\n",
      "Epoch 6/50\n",
      "378/378 [==============================] - 44s 116ms/step - loss: 0.0646 - acc: 0.9811 - val_loss: 0.0221 - val_acc: 0.9926\n",
      "Epoch 7/50\n",
      "378/378 [==============================] - 41s 107ms/step - loss: 0.0633 - acc: 0.9817 - val_loss: 0.0298 - val_acc: 0.9919\n",
      "Epoch 8/50\n",
      "378/378 [==============================] - 44s 115ms/step - loss: 0.0586 - acc: 0.9825 - val_loss: 0.0240 - val_acc: 0.9931\n",
      "Epoch 9/50\n",
      "378/378 [==============================] - 41s 109ms/step - loss: 0.0578 - acc: 0.9835 - val_loss: 0.0334 - val_acc: 0.9905\n",
      "Epoch 10/50\n",
      "378/378 [==============================] - 42s 110ms/step - loss: 0.0538 - acc: 0.9844 - val_loss: 0.0179 - val_acc: 0.9952\n",
      "Epoch 11/50\n",
      "378/378 [==============================] - 42s 110ms/step - loss: 0.0531 - acc: 0.9852 - val_loss: 0.0221 - val_acc: 0.9952\n",
      "Epoch 12/50\n",
      "378/378 [==============================] - 42s 112ms/step - loss: 0.0552 - acc: 0.9845 - val_loss: 0.0213 - val_acc: 0.9938\n",
      "Epoch 13/50\n",
      "378/378 [==============================] - 40s 105ms/step - loss: 0.0559 - acc: 0.9844 - val_loss: 0.0194 - val_acc: 0.9931\n",
      "\n",
      "Epoch 00013: ReduceLROnPlateau reducing learning rate to 0.0005000000237487257.\n",
      "Epoch 14/50\n",
      "378/378 [==============================] - 40s 107ms/step - loss: 0.0422 - acc: 0.9881 - val_loss: 0.0225 - val_acc: 0.9933\n",
      "Epoch 15/50\n",
      "378/378 [==============================] - 43s 113ms/step - loss: 0.0404 - acc: 0.9888 - val_loss: 0.0192 - val_acc: 0.9945\n",
      "Epoch 16/50\n",
      "378/378 [==============================] - 40s 107ms/step - loss: 0.0382 - acc: 0.9890 - val_loss: 0.0243 - val_acc: 0.9938\n",
      "\n",
      "Epoch 00016: ReduceLROnPlateau reducing learning rate to 0.0002500000118743628.\n",
      "Epoch 17/50\n",
      "378/378 [==============================] - 42s 110ms/step - loss: 0.0341 - acc: 0.9900 - val_loss: 0.0173 - val_acc: 0.9950\n",
      "Epoch 18/50\n",
      "378/378 [==============================] - 43s 112ms/step - loss: 0.0305 - acc: 0.9912 - val_loss: 0.0216 - val_acc: 0.9936\n",
      "Epoch 19/50\n",
      "378/378 [==============================] - 41s 109ms/step - loss: 0.0318 - acc: 0.9907 - val_loss: 0.0199 - val_acc: 0.9940\n",
      "\n",
      "Epoch 00019: ReduceLROnPlateau reducing learning rate to 0.0001250000059371814.\n",
      "Epoch 20/50\n",
      "378/378 [==============================] - 42s 110ms/step - loss: 0.0285 - acc: 0.9919 - val_loss: 0.0188 - val_acc: 0.9940\n",
      "Epoch 21/50\n",
      "378/378 [==============================] - 41s 109ms/step - loss: 0.0294 - acc: 0.9920 - val_loss: 0.0177 - val_acc: 0.9936\n",
      "Epoch 22/50\n",
      "378/378 [==============================] - 41s 109ms/step - loss: 0.0279 - acc: 0.9918 - val_loss: 0.0197 - val_acc: 0.9945\n",
      "\n",
      "Epoch 00022: ReduceLROnPlateau reducing learning rate to 6.25000029685907e-05.\n",
      "Epoch 23/50\n",
      "378/378 [==============================] - 42s 111ms/step - loss: 0.0283 - acc: 0.9921 - val_loss: 0.0185 - val_acc: 0.9940\n",
      "Epoch 24/50\n",
      "378/378 [==============================] - 41s 108ms/step - loss: 0.0260 - acc: 0.9929 - val_loss: 0.0162 - val_acc: 0.9945\n",
      "Epoch 25/50\n",
      "378/378 [==============================] - 39s 103ms/step - loss: 0.0271 - acc: 0.9919 - val_loss: 0.0163 - val_acc: 0.9948\n",
      "\n",
      "Epoch 00025: ReduceLROnPlateau reducing learning rate to 3.125000148429535e-05.\n",
      "Epoch 26/50\n",
      "378/378 [==============================] - 39s 104ms/step - loss: 0.0255 - acc: 0.9924 - val_loss: 0.0163 - val_acc: 0.9945\n",
      "Epoch 27/50\n",
      "378/378 [==============================] - 45s 118ms/step - loss: 0.0259 - acc: 0.9920 - val_loss: 0.0176 - val_acc: 0.9938\n",
      "Epoch 28/50\n",
      "378/378 [==============================] - 44s 115ms/step - loss: 0.0250 - acc: 0.9928 - val_loss: 0.0180 - val_acc: 0.9945\n",
      "\n",
      "Epoch 00028: ReduceLROnPlateau reducing learning rate to 1.5625000742147677e-05.\n",
      "Epoch 29/50\n",
      "378/378 [==============================] - 43s 113ms/step - loss: 0.0256 - acc: 0.9928 - val_loss: 0.0171 - val_acc: 0.9945\n",
      "Epoch 30/50\n",
      "378/378 [==============================] - 43s 113ms/step - loss: 0.0262 - acc: 0.9923 - val_loss: 0.0171 - val_acc: 0.9940\n",
      "Epoch 31/50\n",
      "378/378 [==============================] - 42s 112ms/step - loss: 0.0261 - acc: 0.9925 - val_loss: 0.0166 - val_acc: 0.9938\n",
      "\n",
      "Epoch 00031: ReduceLROnPlateau reducing learning rate to 1e-05.\n",
      "Epoch 32/50\n",
      "378/378 [==============================] - 42s 112ms/step - loss: 0.0252 - acc: 0.9925 - val_loss: 0.0167 - val_acc: 0.9936\n",
      "Epoch 33/50\n",
      "378/378 [==============================] - 45s 120ms/step - loss: 0.0252 - acc: 0.9927 - val_loss: 0.0168 - val_acc: 0.9943\n",
      "Epoch 34/50\n",
      "378/378 [==============================] - 43s 115ms/step - loss: 0.0232 - acc: 0.9931 - val_loss: 0.0170 - val_acc: 0.9945\n",
      "Epoch 35/50\n",
      "378/378 [==============================] - 44s 115ms/step - loss: 0.0273 - acc: 0.9924 - val_loss: 0.0166 - val_acc: 0.9943\n",
      "Epoch 36/50\n",
      "378/378 [==============================] - 44s 116ms/step - loss: 0.0267 - acc: 0.9925 - val_loss: 0.0174 - val_acc: 0.9943\n",
      "Epoch 37/50\n",
      "378/378 [==============================] - 44s 116ms/step - loss: 0.0251 - acc: 0.9930 - val_loss: 0.0171 - val_acc: 0.9943\n",
      "Epoch 38/50\n",
      "378/378 [==============================] - 43s 115ms/step - loss: 0.0255 - acc: 0.9928 - val_loss: 0.0174 - val_acc: 0.9945\n",
      "Epoch 39/50\n",
      "378/378 [==============================] - 43s 112ms/step - loss: 0.0246 - acc: 0.9932 - val_loss: 0.0174 - val_acc: 0.9943\n",
      "Epoch 40/50\n",
      "378/378 [==============================] - 42s 110ms/step - loss: 0.0242 - acc: 0.9927 - val_loss: 0.0171 - val_acc: 0.9940\n",
      "Epoch 41/50\n",
      "378/378 [==============================] - 43s 115ms/step - loss: 0.0259 - acc: 0.9922 - val_loss: 0.0172 - val_acc: 0.9940\n",
      "Epoch 42/50\n",
      "378/378 [==============================] - 44s 115ms/step - loss: 0.0254 - acc: 0.9925 - val_loss: 0.0169 - val_acc: 0.9943\n",
      "Epoch 43/50\n",
      "378/378 [==============================] - 44s 116ms/step - loss: 0.0250 - acc: 0.9922 - val_loss: 0.0171 - val_acc: 0.9940\n",
      "Epoch 44/50\n",
      "378/378 [==============================] - 44s 117ms/step - loss: 0.0253 - acc: 0.9927 - val_loss: 0.0170 - val_acc: 0.9943\n",
      "Epoch 45/50\n",
      "378/378 [==============================] - 44s 116ms/step - loss: 0.0248 - acc: 0.9925 - val_loss: 0.0170 - val_acc: 0.9943\n",
      "Epoch 46/50\n",
      "378/378 [==============================] - 44s 116ms/step - loss: 0.0266 - acc: 0.9924 - val_loss: 0.0168 - val_acc: 0.9943\n",
      "Epoch 47/50\n",
      "378/378 [==============================] - 44s 116ms/step - loss: 0.0248 - acc: 0.9924 - val_loss: 0.0174 - val_acc: 0.9943\n",
      "Epoch 48/50\n",
      "378/378 [==============================] - 44s 117ms/step - loss: 0.0254 - acc: 0.9928 - val_loss: 0.0172 - val_acc: 0.9945\n",
      "Epoch 49/50\n",
      "378/378 [==============================] - 46s 122ms/step - loss: 0.0240 - acc: 0.9931 - val_loss: 0.0172 - val_acc: 0.9943\n",
      "Epoch 50/50\n",
      "378/378 [==============================] - 43s 115ms/step - loss: 0.0265 - acc: 0.9925 - val_loss: 0.0169 - val_acc: 0.9943\n"
     ]
    }
   ],
   "source": [
    "history = model.fit_generator(datagen.flow(X_train,Y_train, batch_size=batch_size),\n",
    "                              epochs = epochs, validation_data = (X_val,Y_val),\n",
    "                              verbose = 1, steps_per_epoch=X_train.shape[0] // batch_size\n",
    "                              , callbacks=[learning_rate_reduction])"
   ]
  },
  {
   "cell_type": "code",
   "execution_count": 18,
   "metadata": {},
   "outputs": [],
   "source": [
    "results = model.predict(test)\n",
    "results = np.argmax(results,axis = 1)\n",
    "results = pd.Series(results,name=\"Label\")"
   ]
  },
  {
   "cell_type": "code",
   "execution_count": 19,
   "metadata": {},
   "outputs": [],
   "source": [
    "submission = pd.concat([pd.Series(range(1,28001),name = \"ImageId\"),results],axis = 1)\n",
    "submission.to_csv(\"cnn_mnist_datagen.csv\",index=False)"
   ]
  },
  {
   "cell_type": "code",
   "execution_count": null,
   "metadata": {},
   "outputs": [],
   "source": []
  }
 ],
 "metadata": {
  "kernelspec": {
   "display_name": "Python 3",
   "language": "python",
   "name": "python3"
  },
  "language_info": {
   "codemirror_mode": {
    "name": "ipython",
    "version": 3
   },
   "file_extension": ".py",
   "mimetype": "text/x-python",
   "name": "python",
   "nbconvert_exporter": "python",
   "pygments_lexer": "ipython3",
   "version": "3.6.6"
  }
 },
 "nbformat": 4,
 "nbformat_minor": 2
}
